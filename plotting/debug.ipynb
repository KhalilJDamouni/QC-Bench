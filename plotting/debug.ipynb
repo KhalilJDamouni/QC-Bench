{
 "cells": [
  {
   "cell_type": "code",
   "execution_count": 1,
   "metadata": {},
   "outputs": [],
   "source": [
    "import glob\r\n",
    "import qualities"
   ]
  },
  {
   "cell_type": "code",
   "execution_count": 7,
   "metadata": {},
   "outputs": [
    {
     "name": "stdout",
     "output_type": "stream",
     "text": [
      "csv_files/New/Adaptives/LilJon-AdaM-CIFAR10/*\n",
      "70\n",
      "csv_files/New/Adaptives/LilJon-AdaM-CIFAR10\\results-07-05-2021_19-48-38-LilJon-CIFAR10-0.csv\n"
     ]
    }
   ],
   "source": [
    "path = \"csv_files/New/Adaptives/\"\r\n",
    "\r\n",
    "op = 'AdaM'\r\n",
    "c  = 'CIFAR10'\r\n",
    "\r\n",
    "\r\n",
    "\r\n",
    "results = {} # [epochs][metrics]\r\n",
    "results[epoch] = {}\r\n",
    "for epoch in range(70):\r\n",
    "    for op in ops:\r\n",
    "        path_new = path + \"LilJon-\" + op + \"-\" + c + \"/*\"\r\n",
    "        #print(path_new)\r\n",
    "        files = glob.glob(path_new)\r\n",
    "        #print(len(files))\r\n",
    "\r\n",
    "\r\n",
    "\r\n",
    "\r\n",
    "\r\n",
    "\r\n",
    "\r\n",
    "    file = [f for f in files if \"-\" + str(epoch) + \".csv\" in f]\r\n",
    "    file = files[0]\r\n",
    "    print(file)\r\n",
    "    break\r\n",
    "    print(epoch, end=' ')\r\n",
    "    results[epoch] = qualities.correlate(file);\r\n",
    "    print(type(results[epoch]))"
   ]
  },
  {
   "cell_type": "code",
   "execution_count": 3,
   "metadata": {},
   "outputs": [
    {
     "ename": "NameError",
     "evalue": "name 'test' is not defined",
     "output_type": "error",
     "traceback": [
      "\u001b[1;31m---------------------------------------------------------------------------\u001b[0m",
      "\u001b[1;31mNameError\u001b[0m                                 Traceback (most recent call last)",
      "\u001b[1;32m<ipython-input-3-9d5111348e97>\u001b[0m in \u001b[0;36m<module>\u001b[1;34m\u001b[0m\n\u001b[0;32m      1\u001b[0m \u001b[0mpath\u001b[0m \u001b[1;33m=\u001b[0m \u001b[1;34m\"plotting/csv_files/New/Adaptives/\"\u001b[0m\u001b[1;33m\u001b[0m\u001b[1;33m\u001b[0m\u001b[0m\n\u001b[1;32m----> 2\u001b[1;33m \u001b[0mtest\u001b[0m\u001b[1;33m(\u001b[0m\u001b[0mpath\u001b[0m\u001b[1;33m)\u001b[0m\u001b[1;33m\u001b[0m\u001b[1;33m\u001b[0m\u001b[0m\n\u001b[0m",
      "\u001b[1;31mNameError\u001b[0m: name 'test' is not defined"
     ]
    }
   ],
   "source": []
  },
  {
   "cell_type": "code",
   "execution_count": null,
   "metadata": {},
   "outputs": [],
   "source": []
  }
 ],
 "metadata": {
  "interpreter": {
   "hash": "fd767f124e7d2a8bdccf6b13662be2ce8b3fa3799521e7d6ac19ad88bc5cbd58"
  },
  "kernelspec": {
   "display_name": "Python 3.9.4 64-bit",
   "name": "python3"
  },
  "language_info": {
   "codemirror_mode": {
    "name": "ipython",
    "version": 3
   },
   "file_extension": ".py",
   "mimetype": "text/x-python",
   "name": "python",
   "nbconvert_exporter": "python",
   "pygments_lexer": "ipython3",
   "version": "3.9.4"
  },
  "orig_nbformat": 4
 },
 "nbformat": 4,
 "nbformat_minor": 2
}