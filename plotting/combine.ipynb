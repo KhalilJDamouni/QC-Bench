{
 "cells": [
  {
   "cell_type": "code",
   "execution_count": 57,
   "metadata": {},
   "outputs": [],
   "source": [
    "import os\r\n",
    "import glob\r\n",
    "import pandas as pd\r\n",
    "import csv"
   ]
  },
  {
   "cell_type": "code",
   "execution_count": 85,
   "metadata": {},
   "outputs": [
    {
     "name": "stdout",
     "output_type": "stream",
     "text": [
      "['csv_files/New/Adaptives/LilJon-AdaM-CIFAR10\\\\results-07-06-2021_03-38-31-LilJon-CIFAR10-65.csv', 'csv_files/New/Adaptives/LilJon-AdamP-CIFAR10\\\\results-07-08-2021_20-05-27-LilJon-CIFAR10-65.csv', 'csv_files/New/Adaptives/LilJon-AdaBound-CIFAR10\\\\results-07-08-2021_22-02-23-LilJon-CIFAR10-65.csv']\n"
     ]
    }
   ],
   "source": [
    "extension = 'csv'\r\n",
    "ops = ['AdaM', 'AdamP','AdaBound']\r\n",
    "files = []\r\n",
    "for op in ops:\r\n",
    "    files.extend(glob.glob('csv_files/New/Adaptives/LilJon-' + op + '-' + dataset + '/*_*-' + str(epoch) + \".csv\"))\r\n",
    "print(files)"
   ]
  },
  {
   "cell_type": "code",
   "execution_count": 84,
   "metadata": {},
   "outputs": [],
   "source": [
    "op = 'AdaM'\r\n",
    "dataset = 'CIFAR10'\r\n",
    "epoch = 65"
   ]
  },
  {
   "cell_type": "code",
   "execution_count": 86,
   "metadata": {},
   "outputs": [],
   "source": [
    "combined_csv = pd.concat([pd.read_csv(f, skip_blank_lines=False) for f in files])\r\n",
    "#export to csv\r\n",
    "combined_csv.to_csv(\"csv_files/New/Adaptives/combined_csv.csv\", index=False, encoding='utf-8-sig')"
   ]
  },
  {
   "cell_type": "code",
   "execution_count": 78,
   "metadata": {},
   "outputs": [],
   "source": [
    "with open('csv_files/New/Adaptives/combined_csv2.csv', 'w+', newline='\\n') as csvfile:\r\n",
    "    spamwriter = csv.writer(csvfile)\r\n",
    "    \r\n",
    "    with open(files[0], 'r') as file2:\r\n",
    "        csvtext = file2.readlines()\r\n",
    "        spamwriter.writerows([csvtext[:-1]])\r\n",
    "    #spamwriter.writerow('\\n')\r\n",
    "\r\n",
    "    with open(files[1], 'r') as file2:\r\n",
    "        csvtext = file2.readlines()\r\n",
    "        spamwriter.writerows([csvtext[1:-1]])\r\n",
    "    #spamwriter.writerow('\\n')\r\n",
    "\r\n",
    "    with open(files[2], 'r') as file2:\r\n",
    "        csvtext = file2.readlines()\r\n",
    "        spamwriter.writerows([csvtext[1:-1]])"
   ]
  },
  {
   "cell_type": "code",
   "execution_count": 87,
   "metadata": {},
   "outputs": [
    {
     "name": "stdout",
     "output_type": "stream",
     "text": [
      "zero models deleted: 45\n",
      "1395\n"
     ]
    }
   ],
   "source": [
    "import qualities\r\n",
    "results = qualities.correlate('csv_files/New/Adaptives/combined_csv.csv');"
   ]
  },
  {
   "cell_type": "code",
   "execution_count": 92,
   "metadata": {},
   "outputs": [
    {
     "data": {
      "text/plain": [
       "0.35365599894737154"
      ]
     },
     "execution_count": 92,
     "metadata": {},
     "output_type": "execute_result"
    }
   ],
   "source": [
    "results['spearman']['QS_BE_test_acc_L1_0']"
   ]
  },
  {
   "cell_type": "code",
   "execution_count": null,
   "metadata": {},
   "outputs": [],
   "source": [
    "def combine(epoch):\r\n",
    "    ops = ['AdaM', 'AdamP','AdaBound']\r\n",
    "    files = []\r\n",
    "    for op in ops:\r\n",
    "        files.extend(glob.glob('csv_files/New/Adaptives/LilJon-' + op + '-' + dataset + '/*_*-' + str(epoch) + \".csv\"))\r\n",
    "    print(files)\r\n",
    "\r\n",
    "    combined_csv = pd.concat([pd.read_csv(f, skip_blank_lines=False) for f in files])\r\n",
    "    #export to csv\r\n",
    "    combined_csv.to_csv(\"csv_files/New/Adaptives/LilJon-Adaptive-\" + dataset + \"-\" + str(epoch) + \".csv\", index=False, encoding='utf-8-sig')\r\n",
    "\r\n"
   ]
  }
 ],
 "metadata": {
  "interpreter": {
   "hash": "fd767f124e7d2a8bdccf6b13662be2ce8b3fa3799521e7d6ac19ad88bc5cbd58"
  },
  "kernelspec": {
   "display_name": "Python 3.9.4 64-bit",
   "name": "python3"
  },
  "language_info": {
   "codemirror_mode": {
    "name": "ipython",
    "version": 3
   },
   "file_extension": ".py",
   "mimetype": "text/x-python",
   "name": "python",
   "nbconvert_exporter": "python",
   "pygments_lexer": "ipython3",
   "version": "3.9.4"
  },
  "orig_nbformat": 4
 },
 "nbformat": 4,
 "nbformat_minor": 2
}