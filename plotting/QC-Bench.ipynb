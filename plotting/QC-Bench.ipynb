{
 "cells": [
  {
   "cell_type": "code",
   "execution_count": 40,
   "metadata": {},
   "outputs": [],
   "source": [
    "import csv\r\n",
    "import pandas as pd\r\n",
    "import numpy as np\r\n",
    "import glob\r\n",
    "import qualities\r\n",
    "import plotting_func\r\n",
    "import matplotlib.pyplot as plt\r\n"
   ]
  },
  {
   "cell_type": "code",
   "execution_count": null,
   "metadata": {},
   "outputs": [],
   "source": [
    "files = glob.glob(\"./QC-Bench-SGD/*\")"
   ]
  },
  {
   "cell_type": "code",
   "execution_count": null,
   "metadata": {},
   "outputs": [],
   "source": [
    "results = {} # [epochs][metrics]\r\n",
    "for epoch in range(70):\r\n",
    "    file = [f for f in files if \"-\" + str(epoch) + \".csv\" in f]\r\n",
    "    file = file[0]\r\n",
    "    print(file)\r\n",
    "    results[epoch] = qualities.correlate(file)"
   ]
  },
  {
   "cell_type": "code",
   "execution_count": 46,
   "metadata": {},
   "outputs": [
    {
     "name": "stdout",
     "output_type": "stream",
     "text": [
      "dict_keys(['QS_BE_test_acc_L2_0', 'QS_AE_test_acc_L2_0', 'QE_BE_test_acc_L2_0', 'QE_AE_test_acc_L2_0', 'spec_BE_test_acc_L2_0', 'spec_AE_test_acc_L2_0', 'fro_BE_test_acc_L2_0', 'fro_AE_test_acc_L2_0', 'path_test_acc'])\n"
     ]
    }
   ],
   "source": [
    "#Only want L2 and _0\r\n",
    "plotting = {}\r\n",
    "plotting['test'] = {}\r\n",
    "plotting['gap' ] = {}\r\n",
    "for x in results[epoch]['pearson']:\r\n",
    "    if('test' in x and ('L2_0' in x or 'path' in x)):\r\n",
    "        plotting['test'][x] = {}\r\n",
    "    if('gap'  in x and ('L2_0' in x or 'path' in x)):\r\n",
    "        plotting['gap' ][x] = {}\r\n",
    "\r\n",
    "for epoch in range(70):\r\n",
    "    for x in results[epoch]['pearson']:\r\n",
    "        if('test' in x and ('L2_0' in x or 'path' in x)):\r\n",
    "            plotting['test'][x][epoch] = results[epoch]['pearson'][x]\r\n",
    "        if('gap'  in x and ('L2_0' in x or 'path' in x)):\r\n",
    "            plotting['gap'][x][epoch] = results[epoch]['pearson'][x]\r\n",
    "print(plotting['test'].keys())\r\n"
   ]
  },
  {
   "cell_type": "code",
   "execution_count": 42,
   "metadata": {},
   "outputs": [],
   "source": [
    "#Only want L2 and _0, splits into AE and BE\r\n",
    "plottingBE = {}\r\n",
    "plottingBE['test'] = {}\r\n",
    "plottingBE['gap' ] = {}\r\n",
    "\r\n",
    "plottingAE = {}\r\n",
    "plottingAE['test'] = {}\r\n",
    "plottingAE['gap' ] = {}\r\n",
    "\r\n",
    "for x in results[epoch]['pearson']:\r\n",
    "    if('test' in x and 'L2_0' in x):\r\n",
    "        plottingBE['test'][x] = {}\r\n",
    "        plottingAE['test'][x] = {}\r\n",
    "\r\n",
    "    if('gap'  in x and 'L2_0' in x):\r\n",
    "        plottingBE['gap' ][x] = {}\r\n",
    "        plottingAE['gap' ][x] = {}\r\n",
    "\r\n",
    "#plottingBE['test']['path_test'] = results[epoch]['pearson']['path_test_acc']\r\n",
    "#plottingBE['gap']['path_gap' ] = results[epoch]['pearson']['path_gap' ]\r\n",
    "\r\n",
    "for epoch in range(70):\r\n",
    "    for x in results[epoch]['pearson']:\r\n",
    "        if('test' in x and 'L2_0' in x):\r\n",
    "            if('BE' in x):\r\n",
    "                plottingBE['test'][x][epoch] = results[epoch]['pearson'][x]\r\n",
    "            elif('AE' in x):\r\n",
    "                plottingAE['test'][x][epoch] = results[epoch]['pearson'][x]\r\n",
    "        if('gap'  in x and ('L2_0' in x or 'path' in x)):\r\n",
    "            if('BE' in x):\r\n",
    "                plottingBE['gap'][x][epoch] = results[epoch]['pearson'][x]\r\n",
    "            elif('AE' in x):\r\n",
    "                plottingAE['gap'][x][epoch] = results[epoch]['pearson'][x]"
   ]
  },
  {
   "cell_type": "code",
   "execution_count": 56,
   "metadata": {},
   "outputs": [
    {
     "data": {
      "image/png": "[encoded data removed]",
      "text/plain": [
       "<Figure size 432x288 with 1 Axes>"
      ]
     },
     "metadata": {
      "needs_background": "light"
     },
     "output_type": "display_data"
    },
    {
     "name": "stdout",
     "output_type": "stream",
     "text": [
      "{}\n",
      "dict_keys([])\n"
     ]
    }
   ],
   "source": [
    "for x in plottingAE['test']:\r\n",
    "    \r\n",
    "\r\n",
    "plt.plot(plottingAE['test']['QS_AE_test_acc_L2_0'].keys(), plottingAE['test']['QS_AE_test_acc_L2_0'].values(),)\r\n",
    "plt.show()\r\n",
    "print(plottingBE['test']['QS_AE_test_acc_L2_0'])\r\n",
    "print(plottingBE['test']['QS_AE_test_acc_L2_0'].keys())\r\n"
   ]
  },
  {
   "cell_type": "code",
   "execution_count": null,
   "metadata": {},
   "outputs": [],
   "source": []
  }
 ],
 "metadata": {
  "interpreter": {
   "hash": "fd767f124e7d2a8bdccf6b13662be2ce8b3fa3799521e7d6ac19ad88bc5cbd58"
  },
  "kernelspec": {
   "display_name": "Python 3.9.4 64-bit",
   "name": "python3"
  },
  "language_info": {
   "codemirror_mode": {
    "name": "ipython",
    "version": 3
   },
   "file_extension": ".py",
   "mimetype": "text/x-python",
   "name": "python",
   "nbconvert_exporter": "python",
   "pygments_lexer": "ipython3",
   "version": "3.9.4"
  },
  "orig_nbformat": 4
 },
 "nbformat": 4,
 "nbformat_minor": 2
}