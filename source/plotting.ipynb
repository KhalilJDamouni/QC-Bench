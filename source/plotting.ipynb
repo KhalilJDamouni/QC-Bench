{
 "cells": [
  {
   "cell_type": "code",
   "execution_count": 1,
   "metadata": {},
   "outputs": [],
   "source": [
    "import matplotlib\n",
    "import pandas as pd\n",
    "import numpy as np\n",
    "import numpy.linalg as LA\n",
    "from scipy import stats\n",
    "import math\n",
    "import numpy.ma as ma\n",
    "import matplotlib.pyplot as plt\n",
    "import numpy.ma as ma\n",
    "from pathlib import Path\n",
    "import sys\n",
    "import qualities\n",
    "import plotting_func\n",
    "import glob"
   ]
  },
  {
   "cell_type": "code",
   "execution_count": 2,
   "metadata": {},
   "outputs": [
    {
     "name": "stdout",
     "output_type": "stream",
     "text": [
      "['./outputs\\\\old', './outputs\\\\old2', './outputs\\\\results-06-17-2021_14-31-15-NATST-cifar10-200.csv', './outputs\\\\results-06-17-2021_14-34-36-NATST-cifar10-12.csv', './outputs\\\\results-06-17-2021_14-34-36-NATST-cifar100-200.csv', './outputs\\\\results-06-17-2021_15-19-16-NATST-cifar100-12.csv', './outputs\\\\results-06-17-2021_15-53-47-NATST-ImageNet16-120-12.csv', './outputs\\\\results-06-17-2021_15-57-17-NATST-ImageNet16-120-200.csv', './outputs\\\\results-06-18-2021_17-26-15-NATSS-cifar10-12.csv', './outputs\\\\results-06-18-2021_17-27-02-NATSS-cifar10-90.csv', './outputs\\\\results-06-18-2021_17-27-41-NATSS-cifar100-12.csv', './outputs\\\\results-06-18-2021_17-28-21-NATSS-cifar100-90.csv']\n"
     ]
    }
   ],
   "source": [
    "files = glob.glob(\"./outputs/*\")\n",
    "print(files)"
   ]
  },
  {
   "cell_type": "code",
   "execution_count": 3,
   "metadata": {
    "tags": []
   },
   "outputs": [
    {
     "name": "stdout",
     "output_type": "stream",
     "text": [
      "['./outputs\\\\old', './outputs\\\\old2', './outputs\\\\results-06-17-2021_14-31-15-NATST-cifar10-200.csv', './outputs\\\\results-06-17-2021_14-34-36-NATST-cifar10-12.csv', './outputs\\\\results-06-17-2021_14-34-36-NATST-cifar100-200.csv', './outputs\\\\results-06-17-2021_15-19-16-NATST-cifar100-12.csv', './outputs\\\\results-06-17-2021_15-53-47-NATST-ImageNet16-120-12.csv', './outputs\\\\results-06-17-2021_15-57-17-NATST-ImageNet16-120-200.csv', './outputs\\\\results-06-18-2021_17-26-15-NATSS-cifar10-12.csv', './outputs\\\\results-06-18-2021_17-27-02-NATSS-cifar10-90.csv', './outputs\\\\results-06-18-2021_17-27-41-NATSS-cifar100-12.csv', './outputs\\\\results-06-18-2021_17-28-21-NATSS-cifar100-90.csv']\n",
      "./outputs\\results-06-17-2021_14-31-15-NATST-cifar10-200.csv\n",
      "./outputs\\results-06-17-2021_14-34-36-NATST-cifar10-12.csv\n",
      "zero models deleted: 342\n",
      "15283\n",
      "zero models deleted: 326\n",
      "15299\n",
      "./outputs\\results-06-17-2021_14-34-36-NATST-cifar100-200.csv\n",
      "./outputs\\results-06-17-2021_15-19-16-NATST-cifar100-12.csv\n",
      "zero models deleted: 342\n",
      "15283\n",
      "zero models deleted: 9\n",
      "15617\n",
      "./outputs\\results-06-18-2021_17-26-15-NATSS-cifar10-12.csv\n",
      "./outputs\\results-06-18-2021_17-27-02-NATSS-cifar10-90.csv\n",
      "zero models deleted: 1\n",
      "32767\n",
      "zero models deleted: 1\n",
      "32767\n",
      "./outputs\\results-06-18-2021_17-27-41-NATSS-cifar100-12.csv\n",
      "./outputs\\results-06-18-2021_17-28-21-NATSS-cifar100-90.csv\n",
      "zero models deleted: 1\n",
      "32767\n",
      "zero models deleted: 3\n",
      "32765\n"
     ]
    }
   ],
   "source": [
    "files = glob.glob(\"./outputs/*\")\r\n",
    "print(files)\r\n",
    "#print(len(files))\r\n",
    "models = ['NATST','NATSS']\r\n",
    "\r\n",
    "file12 = {}\r\n",
    "file90 = {}\r\n",
    "results12 = {}\r\n",
    "results90 = {}\r\n",
    "sorted_dict12 = {}\r\n",
    "sorted_dict90 = {}\r\n",
    "plot12 = {}\r\n",
    "plot90 = {}\r\n",
    "title = {}\r\n",
    "\r\n",
    "for model in models:\r\n",
    "    datasets = ['cifar10','cifar100']\r\n",
    "\r\n",
    "    file12[model] = {}\r\n",
    "    file90[model] = {}\r\n",
    "    results12[model] = {}\r\n",
    "    results90[model] = {}\r\n",
    "    sorted_dict12[model] = {}\r\n",
    "    sorted_dict90[model] = {}\r\n",
    "    plot12[model] = {}\r\n",
    "    plot90[model] = {}\r\n",
    "    title[model] = {}\r\n",
    "\r\n",
    "    for dataset in datasets:\r\n",
    "        for x in files:\r\n",
    "            if(dataset + \"-\" in x and model in x and \"-12.csv\" in x):\r\n",
    "                file12[model][dataset] = x\r\n",
    "                print(x)\r\n",
    "            if(dataset + \"-\" in x and model in x and \"-200.csv\" in x):\r\n",
    "                file90[model][dataset] = x\r\n",
    "                print(x)\r\n",
    "            if(dataset + \"-\" in x and model in x and \"-90.csv\" in x):\r\n",
    "                file90[model][dataset] = x\r\n",
    "                print(x)\r\n",
    "\r\n",
    "\r\n",
    "        #print(results12)\r\n",
    "\r\n",
    "        results12[model][dataset] = qualities.correlate(file12[model][dataset].split(os.sep)[-1][0:-4])\r\n",
    "        sorted_dict12[model][dataset] = results12[model][dataset][\"pearson\"]\r\n",
    "        \r\n",
    "\r\n",
    "        results90[model][dataset] = qualities.correlate(file90[model][dataset].split(os.sep)[-1][0:-4])\r\n",
    "        sorted_dict90[model][dataset] = results90[model][dataset][\"pearson\"]\r\n",
    "\r\n",
    "        '''\r\n",
    "        after_process = [\"0\", \"1\", \"2\", \"3\", \"4\", \"5\", \"6\", \"7\"]\r\n",
    "        sorted_dict12[dataset], title[dataset] = plotting_func.rename_dict(sorted_dict12[dataset], after_process[6], \"gap\") #\"test\", \"gap\"\r\n",
    "        sorted_dict90[dataset], title[dataset] = plotting_func.rename_dict(sorted_dict90[dataset], after_process[6], \"gap\") #\"test\", \"gap\"\r\n",
    "\r\n",
    "        #Remove all agg methods except L2 and L3\r\n",
    "        plot12[dataset] = {}\r\n",
    "        plot90[dataset] = {}\r\n",
    "        for x in sorted_dict90[dataset].keys():\r\n",
    "            if(\"L2\" in x or \"L3\" in x):\r\n",
    "                plot12[dataset][x] = sorted_dict12[dataset][x]\r\n",
    "                plot90[dataset][x] = sorted_dict90[dataset][x]\r\n",
    "        '''"
   ]
  },
  {
   "cell_type": "code",
   "execution_count": 10,
   "metadata": {},
   "outputs": [],
   "source": [
    "newgap90 = dict()\r\n",
    "newgap12 = dict()\r\n",
    "newtest90 = dict()\r\n",
    "newtest12 = dict()\r\n",
    "for model in models:\r\n",
    "    newgap90[model] = dict()\r\n",
    "    newgap12[model] = dict()\r\n",
    "    newtest90[model] = dict()\r\n",
    "    newtest12[model] = dict()\r\n",
    "    for dataset in datasets:\r\n",
    "        for x in results90[model][dataset][\"pearson\"]:\r\n",
    "            if(\"gap\" in x):\r\n",
    "                if(\"QS\" in x):\r\n",
    "                    if(\"L3\" in x and \"_0\" in x):\r\n",
    "                        newgap90[model][x+\"-\"+dataset] = results90[model][dataset][\"pearson\"][x]\r\n",
    "                        newgap12[model][x+\"-\"+dataset] = results12[model][dataset][\"pearson\"][x]\r\n",
    "                elif(\"path\" in x):\r\n",
    "                    newgap90[model][x+\"-\"+dataset] = results90[model][dataset][\"pearson\"][x]\r\n",
    "                    newgap12[model][x+\"-\"+dataset] = results12[model][dataset][\"pearson\"][x]  \r\n",
    "                else:\r\n",
    "                    if(\"L2\" in x and \"_6\" in x):\r\n",
    "                        newgap90[model][x+\"-\"+dataset] = results90[model][dataset][\"pearson\"][x]\r\n",
    "                        newgap12[model][x+\"-\"+dataset] = results12[model][dataset][\"pearson\"][x]\r\n",
    "            elif(\"test\" in x):\r\n",
    "                if(\"QS\" in x):\r\n",
    "                    if(\"L3\" in x and \"_0\" in x):\r\n",
    "                        newtest90[model][x+\"-\"+dataset] = results90[model][dataset][\"pearson\"][x]\r\n",
    "                        newtest12[model][x+\"-\"+dataset] = results12[model][dataset][\"pearson\"][x]\r\n",
    "                elif(\"path\" in x):\r\n",
    "                    newtest90[model][x+\"-\"+dataset] = results90[model][dataset][\"pearson\"][x]\r\n",
    "                    newtest12[model][x+\"-\"+dataset] = results12[model][dataset][\"pearson\"][x]  \r\n",
    "                else:\r\n",
    "                    if(\"L2\" in x and \"_6\" in x):\r\n",
    "                        newtest90[model][x+\"-\"+dataset] = results90[model][dataset][\"pearson\"][x]\r\n",
    "                        newtest12[model][x+\"-\"+dataset] = results12[model][dataset][\"pearson\"][x]"
   ]
  },
  {
   "cell_type": "code",
   "execution_count": 11,
   "metadata": {},
   "outputs": [
    {
     "name": "stdout",
     "output_type": "stream",
     "text": [
      "{'NATST': {'QS_BE_test_acc_L3_0-cifar10': 0.11750837577038888, 'QS_AE_test_acc_L3_0-cifar10': 0.006726725559588611, 'QE_BE_test_acc_L2_6-cifar10': 0.2971815433474353, 'QE_AE_test_acc_L2_6-cifar10': 0.25698028773365056, 'spec_BE_test_acc_L2_6-cifar10': 0.31814389602945764, 'spec_AE_test_acc_L2_6-cifar10': 0.6900350155041256, 'fro_BE_test_acc_L2_6-cifar10': 0.03684037830382454, 'fro_AE_test_acc_L2_6-cifar10': 0.650226910523078, 'path_test_acc-cifar10': 0.3174825976560254, 'QS_BE_test_acc_L3_0-cifar100': 0.1710367345748185, 'QS_AE_test_acc_L3_0-cifar100': 0.10870733838986357, 'QE_BE_test_acc_L2_6-cifar100': 0.2437982545074604, 'QE_AE_test_acc_L2_6-cifar100': 0.3919096918344174, 'spec_BE_test_acc_L2_6-cifar100': 0.4949481518483074, 'spec_AE_test_acc_L2_6-cifar100': 0.5554058627758223, 'fro_BE_test_acc_L2_6-cifar100': 0.23168368134083245, 'fro_AE_test_acc_L2_6-cifar100': 0.518686546837556, 'path_test_acc-cifar100': 0.1422229245308025}, 'NATSS': {'QS_BE_test_acc_L3_0-cifar10': 0.9320167179731735, 'QS_AE_test_acc_L3_0-cifar10': 0.8455855015985855, 'QE_BE_test_acc_L2_6-cifar10': 0.9533756035237871, 'QE_AE_test_acc_L2_6-cifar10': 0.8180727724337455, 'spec_BE_test_acc_L2_6-cifar10': 0.6991619716276035, 'spec_AE_test_acc_L2_6-cifar10': 0.1924908683239959, 'fro_BE_test_acc_L2_6-cifar10': 0.9522990394739894, 'fro_AE_test_acc_L2_6-cifar10': 0.5382647868414758, 'path_test_acc-cifar10': 0.6553891643603498, 'QS_BE_test_acc_L3_0-cifar100': 0.6672196006674973, 'QS_AE_test_acc_L3_0-cifar100': 0.6833603067531212, 'QE_BE_test_acc_L2_6-cifar100': 0.7438570139387686, 'QE_AE_test_acc_L2_6-cifar100': 0.6087701633803572, 'spec_BE_test_acc_L2_6-cifar100': 0.5657142559398611, 'spec_AE_test_acc_L2_6-cifar100': 0.5652480168848119, 'fro_BE_test_acc_L2_6-cifar100': 0.915976946123672, 'fro_AE_test_acc_L2_6-cifar100': 0.44734726678959724, 'path_test_acc-cifar100': 0.7174663568653716}}\n"
     ]
    }
   ],
   "source": [
    "print(newtest12)"
   ]
  },
  {
   "cell_type": "code",
   "execution_count": 12,
   "metadata": {},
   "outputs": [],
   "source": [
    "def rename_dict(sorted_dict):\n",
    "    #Renames dict to latex\n",
    "\n",
    "    temp = {}\n",
    "    for x in sorted_dict.keys():\n",
    "        #print(x)\n",
    "        #Translate Name to Latex\n",
    "        name = '${'\n",
    "        if('AE' in x):\n",
    "            name += '\\widehat{'\n",
    "        elif('BE' in x):\n",
    "            name += '{'\n",
    "        if('QS' in x):\n",
    "            name += 'Q}_{SQ}'\n",
    "        elif('QE' in x):\n",
    "            name += 'Q}_{E}'\n",
    "        elif('fro' in x):\n",
    "            name += 'Q}_{F}'\n",
    "        elif('spec' in x):\n",
    "            name += 'Q}_{S}'\n",
    "        elif('path' in x):\n",
    "            name += '{Q}_{P}'\n",
    "        if('L1' in x):\n",
    "            name += '^{L1}'\n",
    "        elif('L2' in x):\n",
    "            name += '^{L2}'\n",
    "        elif('L3' in x):\n",
    "            name += '^{p}'\n",
    "        elif('L4' in x):\n",
    "            name += '^{L4}'\n",
    "        elif('L5' in x):\n",
    "            name += '^{L5}'\n",
    "        name += '}$'\n",
    "        name += \"-\"+(x.split(\"-\")[-1]).upper()\n",
    "        #print(name)\n",
    "        temp[name] = sorted_dict[x]\n",
    "\n",
    "    return temp\n",
    "\n"
   ]
  },
  {
   "cell_type": "code",
   "execution_count": 13,
   "metadata": {},
   "outputs": [],
   "source": [
    "for model in models:\r\n",
    "    newgap12[model] = rename_dict(newgap12[model])\r\n",
    "    newgap90[model] = rename_dict(newgap90[model])\r\n",
    "    newtest12[model] = rename_dict(newtest12[model])\r\n",
    "    newtest90[model] = rename_dict(newtest90[model])"
   ]
  },
  {
   "cell_type": "code",
   "execution_count": 24,
   "metadata": {},
   "outputs": [
    {
     "data": {
      "image/png": "[encoded data removed]",
      "text/plain": [
       "<Figure size 432x288 with 1 Axes>"
      ]
     },
     "metadata": {
      "needs_background": "light"
     },
     "output_type": "display_data"
    }
   ],
   "source": [
    "model = 'NATSS' #NATST, NATSS\r\n",
    "width = 0.35\r\n",
    "x = np.arange(len(newtest90[model].values()))\r\n",
    "plt.barh(x + width/2, newtest90[model].values(), width, label='200', color = \"red\")\r\n",
    "plt.barh(x - width/2, newtest12[model].values(), width, label='12', color = \"orange\")\r\n",
    "plt.yticks(x, labels = newtest12[model].keys(), fontsize = 6)\r\n",
    "plt.title(model + \"-Bench with Test Accuracy\", fontsize = 12)\r\n",
    "plt.xlabel('Pearson Correlation')\r\n",
    "plt.xlim([0, 1])\r\n",
    "#plt.legend()\r\n",
    "plt.savefig('figures/' + model[-1] + '_Test.png', dpi = 500)\r\n",
    "plt.show()"
   ]
  },
  {
   "cell_type": "code",
   "execution_count": 25,
   "metadata": {},
   "outputs": [
    {
     "data": {
      "image/png": "[encoded data removed]",
      "text/plain": [
       "<Figure size 432x288 with 1 Axes>"
      ]
     },
     "metadata": {
      "needs_background": "light"
     },
     "output_type": "display_data"
    }
   ],
   "source": [
    "width = 0.35\r\n",
    "x = np.arange(len(newgap90[model].values()))\r\n",
    "plt.barh(x + width/2, newgap90[model].values(), width, label='200', color = \"red\")\r\n",
    "plt.barh(x - width/2, newgap12[model].values(), width, label='12', color = \"orange\")\r\n",
    "plt.yticks(x, labels = newgap12[model].keys(), fontsize = 6)\r\n",
    "plt.title(model + \"-Bench with Generalization Gap\", fontsize = 12)\r\n",
    "plt.xlabel('Pearson Correlation')\r\n",
    "plt.xlim([0, 1])\r\n",
    "#plt.legend()\r\n",
    "plt.savefig('figures/' + model[-1] + '_Gap.png', dpi = 500)\r\n",
    "plt.show()"
   ]
  },
  {
   "cell_type": "code",
   "execution_count": null,
   "metadata": {},
   "outputs": [],
   "source": [
    "for dataset in datasets:    \n",
    "    x = np.arange(len(plot12[dataset].values()))  # the label locations\n",
    "    width = 0.35  # the width of the bars\n",
    "    #print(plot12[dataset])\n",
    "\n",
    "    #fig, ax = plt.plot()\n",
    "    plt.barh(x - width/2, plot12[dataset].values(), width, label='12', color = \"orange\")\n",
    "    plt.barh(x + width/2, plot90[dataset].values(), width, label='90', color = \"red\")\n",
    "\n",
    "    plt.xlabel('Pearson Correlation')\n",
    "    plt.title(title[dataset], fontsize = 9)\n",
    "    plt.yticks(x, labels = plot12[dataset].keys(), fontsize = 7)\n",
    "    plt.legend()\n",
    "\n",
    "    #fi.tight_layout()\n",
    "    plt.savefig('figures/' + dataset + 'Gap_6.png', dpi=300)\n",
    "    plt.show()"
   ]
  },
  {
   "cell_type": "code",
   "execution_count": null,
   "metadata": {
    "tags": []
   },
   "outputs": [],
   "source": [
    "#correlations['pearson'].keys()\n",
    "sorted_values = sorted(results['pearson'].values()) # Sort the values\n",
    "sorted_values.reverse()\n",
    "sorted_dict = {}\n",
    "\n",
    "for i in sorted_values:\n",
    "    for k in results['pearson'].keys():\n",
    "        if results['pearson'][k] == i:\n",
    "            sorted_dict[k] = abs(results['pearson'][k])\n",
    "\n",
    "number = 0 \n",
    "n = '6'\n",
    "for x in sorted_dict.keys():\n",
    "    if('_' + n in x):\n",
    "        number += 1\n",
    "        #print(x)\n",
    "print(number)\n",
    "#print(sorted_dict.keys())\n",
    "\n",
    "number = 0 \n",
    "for x in results[\"pearson\"].keys():\n",
    "    if('_' + n in x):\n",
    "        number += 1\n",
    "        #print(x)\n",
    "print(number)\n",
    "#print(sorted_dict.keys())"
   ]
  },
  {
   "cell_type": "code",
   "execution_count": null,
   "metadata": {},
   "outputs": [],
   "source": [
    "agg = ['L1', 'L2', 'L3', 'L4', 'L5']\n",
    "aft = ['0' , '1' , '2' , '3' , '4' , '5' , '6' , '7']\n",
    "vss = ['test', 'gap']\n",
    "\n",
    "for i in aft:\n",
    "    for v in vss:\n",
    "        #Create Temp Dict\n",
    "        temp = {}\n",
    "        for x in sorted_dict.keys():\n",
    "            #print(x)\n",
    "            if((\"_\" + i) in x and v in x):\n",
    "                #Translate Name to Latex\n",
    "                name = '${'\n",
    "                if('AE' in x):\n",
    "                    name += '\\widehat{'\n",
    "                elif('BE' in x):\n",
    "                    name += '{'\n",
    "                if('QS' in x):\n",
    "                    name += 'Q}_{S}'\n",
    "                elif('QE' in x):\n",
    "                    name += 'Q}_{E}'\n",
    "                elif('fro' in x):\n",
    "                    name += '\\mu}_{frob}'\n",
    "                elif('spec' in x):\n",
    "                    name += '\\mu}_{spec}'\n",
    "                if('L1' in x):\n",
    "                    name += '^{L1}'\n",
    "                elif('L2' in x):\n",
    "                    name += '^{L2}'\n",
    "                elif('L3' in x):\n",
    "                    name += '^{L3}'\n",
    "                elif('L4' in x):\n",
    "                    name += '^{L4}'\n",
    "                elif('L5' in x):\n",
    "                    name += '^{L5}'\n",
    "\n",
    "                name += '}$'\n",
    "                #print(name)\n",
    "                temp[name] = sorted_dict[x]\n",
    "\n",
    "            #Create Title:\n",
    "        if(v == 'test'):\n",
    "            title = \"Pearson Correlation of Metrics Alongside Test Accuracy \"\n",
    "        elif(v == 'gap'):\n",
    "            title = \"Pearson Correlation of Metrics Alongside Generalization Gap \"\n",
    "        title += \"Using \" + i + \" Afterprocessing\"\n",
    "\n",
    "        #Plot\n",
    "        matplotlib.rc('ytick', labelsize=3)\n",
    "        matplotlib.rc('xtick', labelsize=10)\n",
    "        plt.barh(range(len(temp)), list(temp.values()), align='center');\n",
    "        #print(title, list(temp.keys()), len(list(temp.keys())))\n",
    "        plt.yticks(range(len(temp)), list(temp.keys()),rotation='horizontal');    \n",
    "        plt.title(title, fontsize = 7)\n",
    "        plt.xlim([0,1])\n",
    "        plt.show()\n",
    "\n",
    "#Merics_Before/After EVBMF_Test / Gap_L1 to L5 (agg)_ (8 afterprocessing) (Only look at 0 and 7)\n",
    "#4 x 2 x 5 x 8 = 320.\n",
    "#Split by aft: 4 x 2 x 5 = 40 bars, 8 graphs"
   ]
  },
  {
   "cell_type": "code",
   "execution_count": null,
   "metadata": {},
   "outputs": [],
   "source": [
    "print(sorted_dict.keys())"
   ]
  },
  {
   "cell_type": "code",
   "execution_count": null,
   "metadata": {},
   "outputs": [],
   "source": []
  }
 ],
 "metadata": {
  "interpreter": {
   "hash": "fd767f124e7d2a8bdccf6b13662be2ce8b3fa3799521e7d6ac19ad88bc5cbd58"
  },
  "kernelspec": {
   "display_name": "Python 3.9.4 64-bit",
   "name": "python3"
  },
  "language_info": {
   "codemirror_mode": {
    "name": "ipython",
    "version": 3
   },
   "file_extension": ".py",
   "mimetype": "text/x-python",
   "name": "python",
   "nbconvert_exporter": "python",
   "pygments_lexer": "ipython3",
   "version": "3.9.4"
  },
  "orig_nbformat": 2
 },
 "nbformat": 4,
 "nbformat_minor": 2
}