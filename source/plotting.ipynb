{
 "metadata": {
  "language_info": {
   "codemirror_mode": {
    "name": "ipython",
    "version": 3
   },
   "file_extension": ".py",
   "mimetype": "text/x-python",
   "name": "python",
   "nbconvert_exporter": "python",
   "pygments_lexer": "ipython3",
   "version": "3.9.4"
  },
  "orig_nbformat": 2,
  "kernelspec": {
   "name": "python394jvsc74a57bd0fd767f124e7d2a8bdccf6b13662be2ce8b3fa3799521e7d6ac19ad88bc5cbd58",
   "display_name": "Python 3.9.4 64-bit"
  }
 },
 "nbformat": 4,
 "nbformat_minor": 2,
 "cells": [
  {
   "cell_type": "code",
   "execution_count": null,
   "metadata": {},
   "outputs": [],
   "source": [
    "import matplotlib\n",
    "import pandas as pd\n",
    "import numpy as np\n",
    "import numpy.linalg as LA\n",
    "from scipy import stats\n",
    "import math\n",
    "import numpy.ma as ma\n",
    "import matplotlib.pyplot as plt\n",
    "import numpy.ma as ma\n",
    "from pathlib import Path\n",
    "import sys\n",
    "import qualities"
   ]
  },
  {
   "cell_type": "code",
   "execution_count": null,
   "metadata": {
    "tags": []
   },
   "outputs": [],
   "source": [
    "filename = \"results-06-11-2021_16-02-04-NATSS-cifar10-12\"\n",
    "results = qualities.correlate(filename)\n",
    "print(correlations)"
   ]
  },
  {
   "cell_type": "code",
   "execution_count": null,
   "metadata": {
    "tags": []
   },
   "outputs": [],
   "source": [
    "#correlations['pearson'].keys()\n",
    "sorted_values = sorted(results['pearson'].values()) # Sort the values\n",
    "sorted_values.reverse()\n",
    "sorted_dict = {}\n",
    "\n",
    "for i in sorted_values:\n",
    "    for k in results['pearson'].keys():\n",
    "        if results['pearson'][k] == i:\n",
    "            sorted_dict[k] = abs(results['pearson'][k])\n",
    "\n",
    "number = 0 \n",
    "n = '6'\n",
    "for x in sorted_dict.keys():\n",
    "    if('_' + n in x):\n",
    "        number += 1\n",
    "        #print(x)\n",
    "print(number)\n",
    "#print(sorted_dict.keys())\n",
    "\n",
    "number = 0 \n",
    "for x in results[\"pearson\"].keys():\n",
    "    if('_' + n in x):\n",
    "        number += 1\n",
    "        #print(x)\n",
    "print(number)\n",
    "#print(sorted_dict.keys())"
   ]
  },
  {
   "cell_type": "code",
   "execution_count": null,
   "metadata": {},
   "outputs": [],
   "source": [
    "agg = ['L1', 'L2', 'L3', 'L4', 'L5']\n",
    "aft = ['0' , '1' , '2' , '3' , '4' , '5' , '6' , '7']\n",
    "vss = ['test', 'gap']\n",
    "\n",
    "for i in aft:\n",
    "    for v in vss:\n",
    "        #Create Temp Dict\n",
    "        temp = {}\n",
    "        for x in sorted_dict.keys():\n",
    "            #print(x)\n",
    "            if((\"_\" + i) in x and v in x):\n",
    "                #Translate Name to Latex\n",
    "                name = '${'\n",
    "                if('AE' in x):\n",
    "                    name += '\\widehat{'\n",
    "                elif('BE' in x):\n",
    "                    name += '{'\n",
    "                if('QS' in x):\n",
    "                    name += 'Q}_{S}'\n",
    "                elif('QE' in x):\n",
    "                    name += 'Q}_{E}'\n",
    "                elif('fro' in x):\n",
    "                    name += '\\mu}_{frob}'\n",
    "                elif('spec' in x):\n",
    "                    name += '\\mu}_{spec}'\n",
    "                if('L1' in x):\n",
    "                    name += '^{L1}'\n",
    "                elif('L2' in x):\n",
    "                    name += '^{L2}'\n",
    "                elif('L3' in x):\n",
    "                    name += '^{L3}'\n",
    "                elif('L4' in x):\n",
    "                    name += '^{L4}'\n",
    "                elif('L5' in x):\n",
    "                    name += '^{L5}'\n",
    "\n",
    "                name += '}$'\n",
    "                #print(name)\n",
    "                temp[name] = sorted_dict[x]\n",
    "\n",
    "            #Create Title:\n",
    "        if(v == 'test'):\n",
    "            title = \"Pearson Correlation of Metrics Alongside Test Accuracy \"\n",
    "        elif(v == 'gap'):\n",
    "            title = \"Pearson Correlation of Metrics Alongside Generalization Gap \"\n",
    "        title += \"Using \" + i + \" Afterprocessing\"\n",
    "\n",
    "        #Plot\n",
    "        matplotlib.rc('ytick', labelsize=3)\n",
    "        matplotlib.rc('xtick', labelsize=10)\n",
    "        plt.barh(range(len(temp)), list(temp.values()), align='center');\n",
    "        #print(title, list(temp.keys()), len(list(temp.keys())))\n",
    "        plt.yticks(range(len(temp)), list(temp.keys()),rotation='horizontal');    \n",
    "        plt.title(title, fontsize = 7)\n",
    "        plt.xlim([0,1])\n",
    "        plt.show()\n",
    "\n",
    "#Merics_Before/After EVBMF_Test / Gap_L1 to L5 (agg)_ (8 afterprocessing) (Only look at 0 and 7)\n",
    "#4 x 2 x 5 x 8 = 320.\n",
    "#Split by aft: 4 x 2 x 5 = 40 bars, 8 graphs"
   ]
  },
  {
   "cell_type": "code",
   "execution_count": 48,
   "metadata": {},
   "outputs": [
    {
     "output_type": "stream",
     "name": "stdout",
     "text": [
      "dict_keys(['fro_BE_test_acc_L1_6', 'fro_BE_test_acc_L1_4', 'QE_BE_test_acc_L2_4', 'QE_BE_test_acc_L2_6', 'fro_BE_test_acc_L2_4', 'fro_BE_test_acc_L2_6', 'fro_BE_test_acc_L1_2', 'fro_BE_test_acc_L2_2', 'QE_BE_test_acc_L2_2', 'fro_BE_test_acc_L2_0', 'fro_BE_test_acc_L1_0', 'QE_BE_test_acc_L1_4', 'QE_BE_test_acc_L1_6', 'QE_BE_test_acc_L2_0', 'QE_BE_test_acc_L1_2', 'QE_BE_test_acc_L1_0', 'QE_BE_test_acc_L3_4', 'QE_BE_test_acc_L3_6', 'QE_BE_test_acc_L2_5', 'QE_BE_test_acc_L2_7', 'QS_BE_test_acc_L3_0', 'QE_BE_test_acc_L1_5', 'QE_BE_test_acc_L1_7', 'QE_BE_test_acc_L2_3', 'QE_BE_test_acc_L3_2', 'QS_BE_test_acc_L3_2', 'fro_BE_test_acc_L3_6', 'fro_BE_test_acc_L3_4', 'QE_BE_test_acc_L1_3', 'fro_BE_test_acc_L1_5', 'fro_BE_test_acc_L1_7', 'QE_BE_test_acc_L2_1', 'fro_BE_test_acc_L1_3', 'QS_BE_test_acc_L3_6', 'QS_BE_test_acc_L3_4', 'fro_BE_test_acc_L3_2', 'QE_BE_test_acc_L3_0', 'QS_BE_test_acc_L3_1', 'fro_BE_test_acc_L1_1', 'QE_BE_test_acc_L1_1', 'fro_BE_test_acc_L3_0', 'QE_BE_test_acc_L3_5', 'QE_BE_test_acc_L3_7', 'QS_BE_test_acc_L1_0', 'QS_BE_test_acc_L3_3', 'fro_BE_test_acc_L2_7', 'fro_BE_test_acc_L2_5', 'fro_BE_test_acc_L2_3', 'QE_BE_test_acc_L3_3', 'QS_BE_test_acc_L1_2', 'fro_BE_test_acc_L2_1', 'QS_BE_test_acc_L3_5', 'QS_BE_test_acc_L3_7', 'QE_BE_test_acc_L3_1', 'QS_BE_test_acc_L1_4', 'QS_BE_test_acc_L1_6', 'fro_BE_test_acc_L3_7', 'fro_BE_test_acc_L3_5', 'fro_BE_gap_L2_2', 'fro_BE_gap_L2_0', 'fro_BE_gap_L2_4', 'fro_BE_gap_L2_6', 'QS_BE_test_acc_L1_1', 'fro_BE_test_acc_L3_3', 'fro_BE_test_acc_L3_1', 'QS_BE_test_acc_L1_3', 'QE_BE_gap_L2_2', 'QE_BE_gap_L2_4', 'QE_BE_gap_L2_6', 'QE_BE_gap_L2_0', 'QS_BE_test_acc_L1_5', 'QS_BE_test_acc_L1_7', 'QE_BE_test_acc_L5_4', 'QE_BE_test_acc_L5_6', 'QE_BE_test_acc_L5_2', 'QE_BE_test_acc_L5_0', 'QS_BE_test_acc_L2_0', 'QE_BE_gap_L1_4', 'QE_BE_gap_L1_6', 'QE_BE_gap_L1_2', 'QS_BE_gap_L3_0', 'QE_BE_gap_L1_0', 'QS_BE_test_acc_L2_2', 'QS_BE_gap_L3_2', 'QS_BE_gap_L3_4', 'QS_BE_gap_L3_6', 'fro_BE_gap_L1_6', 'fro_BE_gap_L1_4', 'fro_BE_gap_L1_2', 'fro_BE_gap_L1_0', 'QS_BE_gap_L3_1', 'QS_BE_test_acc_L2_4', 'QS_BE_test_acc_L2_6', 'QS_BE_gap_L3_3', 'QS_BE_gap_L3_5', 'QS_BE_gap_L3_7', 'QE_BE_gap_L2_3', 'QE_BE_gap_L2_5', 'QE_BE_gap_L2_7', 'QE_BE_gap_L2_1', 'QS_BE_test_acc_L2_1', 'QE_BE_gap_L5_0', 'QS_BE_test_acc_L2_3', 'QS_BE_gap_L1_0', 'QE_BE_gap_L3_4', 'QE_BE_gap_L3_6', 'fro_BE_gap_L2_1', 'fro_BE_gap_L2_3', 'QE_BE_gap_L5_2', 'QE_BE_gap_L1_5', 'QE_BE_gap_L1_7', 'QS_BE_gap_L1_2', 'QE_BE_gap_L1_3', 'QE_BE_gap_L3_2', 'fro_BE_gap_L2_5', 'fro_BE_gap_L2_7', 'QE_BE_gap_L1_1', 'QS_BE_gap_L1_4', 'QS_BE_gap_L1_6', 'QE_BE_gap_L3_0', 'QE_BE_test_acc_L4_4', 'QE_BE_test_acc_L4_6', 'QE_BE_gap_L5_4', 'QE_BE_gap_L5_6', 'QE_BE_test_acc_L4_2', 'QS_BE_test_acc_L2_5', 'QS_BE_test_acc_L2_7', 'QE_BE_test_acc_L4_0', 'QS_BE_gap_L1_1', 'QE_BE_test_acc_L5_7', 'QE_BE_test_acc_L5_5', 'QS_BE_gap_L1_3', 'QE_BE_test_acc_L5_3', 'QS_AE_test_acc_L3_2', 'QS_BE_gap_L1_5', 'QS_BE_gap_L1_7', 'QE_AE_test_acc_L3_4', 'QE_AE_test_acc_L3_6', 'QE_BE_test_acc_L5_1', 'QS_AE_test_acc_L3_3', 'QE_AE_test_acc_L3_5', 'QE_AE_test_acc_L3_7', 'QS_AE_test_acc_L3_4', 'QS_AE_test_acc_L3_6', 'QS_AE_test_acc_L3_0', 'fro_BE_gap_L1_1', 'QE_AE_test_acc_L3_2', 'fro_BE_gap_L1_3', 'QE_AE_test_acc_L3_3', 'fro_BE_gap_L1_5', 'fro_BE_gap_L1_7', 'QE_BE_gap_L3_5', 'QE_BE_gap_L3_7', 'QS_AE_test_acc_L3_5', 'QS_AE_test_acc_L3_7', 'QS_AE_test_acc_L3_1', 'QE_BE_gap_L3_3', 'QE_AE_test_acc_L1_4', 'QE_AE_test_acc_L1_6', 'QE_AE_test_acc_L1_2', 'QE_BE_gap_L3_1', 'QE_AE_gap_L1_0', 'QE_AE_test_acc_L3_1', 'QE_AE_test_acc_L3_0', 'QE_AE_test_acc_L1_0', 'QE_AE_test_acc_L1_5', 'QE_AE_test_acc_L1_7', 'QE_AE_gap_L1_2', 'QE_BE_gap_L4_0', 'QE_AE_test_acc_L1_3', 'QE_BE_gap_L4_2', 'QE_AE_gap_L2_0', 'QE_AE_test_acc_L1_1', 'QE_AE_gap_L1_4', 'QE_AE_gap_L1_6', 'QE_BE_gap_L4_4', 'QE_BE_gap_L4_6', 'QE_AE_gap_L1_1', 'QE_AE_gap_L2_2', 'QE_AE_gap_L1_3', 'QE_AE_gap_L2_4', 'QE_AE_gap_L2_6', 'QE_AE_gap_L1_5', 'QE_AE_gap_L1_7', 'fro_BE_gap_L3_6', 'fro_BE_gap_L3_4', 'fro_BE_gap_L3_2', 'QE_AE_gap_L3_2', 'fro_BE_gap_L3_0', 'QE_AE_gap_L3_0', 'QE_AE_gap_L3_4', 'QE_AE_gap_L3_6', 'QE_AE_gap_L2_1', 'QS_BE_gap_L2_0', 'QE_AE_test_acc_L2_4', 'QE_AE_test_acc_L2_6', 'QE_AE_gap_L3_3', 'QE_AE_test_acc_L2_2', 'QS_BE_gap_L2_2', 'QE_AE_gap_L3_1', 'QE_AE_gap_L2_3', 'QE_AE_gap_L3_7', 'QE_AE_gap_L3_5', 'QE_AE_test_acc_L2_0', 'QS_BE_gap_L2_4', 'QS_BE_gap_L2_6', 'QE_BE_gap_L5_1', 'QE_BE_gap_L5_3', 'QE_BE_test_acc_L4_5', 'QE_BE_test_acc_L4_7', 'QE_AE_gap_L2_5', 'QE_AE_gap_L2_7', 'QE_AE_test_acc_L2_3', 'QE_AE_test_acc_L2_7', 'QE_AE_test_acc_L2_5', 'QE_BE_test_acc_L4_3', 'spec_BE_test_acc_L5_0', 'QE_BE_gap_L5_7', 'QE_BE_gap_L5_5', 'spec_BE_test_acc_L5_2', 'QE_AE_test_acc_L2_1', 'spec_BE_test_acc_L4_0', 'spec_BE_test_acc_L5_4', 'spec_BE_test_acc_L5_6', 'QE_BE_test_acc_L4_1', 'spec_BE_test_acc_L4_2', 'QS_BE_gap_L2_1', 'spec_BE_test_acc_L4_4', 'spec_BE_test_acc_L4_6', 'QS_BE_gap_L2_3', 'QS_BE_gap_L2_5', 'QS_BE_gap_L2_7', 'fro_BE_gap_L3_1', 'fro_BE_gap_L3_3', 'fro_BE_gap_L3_7', 'fro_BE_gap_L3_5', 'QS_AE_test_acc_L1_0', 'QS_AE_test_acc_L1_1', 'QS_AE_test_acc_L1_2', 'QS_AE_test_acc_L1_3', 'QE_BE_gap_L4_1', 'QE_BE_gap_L4_3', 'QE_BE_gap_L4_5', 'QE_BE_gap_L4_7', 'QS_AE_test_acc_L1_4', 'QS_AE_test_acc_L1_6', 'QS_AE_test_acc_L1_7', 'QS_AE_test_acc_L1_5', 'QS_BE_gap_L4_1', 'QS_BE_gap_L4_3', 'spec_BE_gap_L1_0', 'spec_BE_gap_L1_2', 'spec_BE_gap_L1_4', 'spec_BE_gap_L1_6', 'QE_AE_gap_L5_0', 'QS_BE_gap_L4_5', 'QS_BE_gap_L4_7', 'QE_AE_gap_L5_2', 'QS_AE_gap_L3_4', 'QS_AE_gap_L3_6', 'QS_AE_gap_L3_5', 'QS_AE_gap_L3_7', 'QS_BE_gap_L4_0', 'QS_BE_gap_L4_2', 'QS_BE_gap_L4_6', 'QS_BE_gap_L4_4', 'QS_BE_test_acc_L4_0', 'QE_AE_gap_L5_4', 'QE_AE_gap_L5_6', 'QE_AE_gap_L4_0', 'QS_AE_gap_L3_3', 'QS_AE_gap_L3_2', 'QE_AE_gap_L5_1', 'QS_BE_test_acc_L4_1', 'QE_AE_gap_L4_2', 'QE_AE_gap_L5_3', 'QS_BE_test_acc_L4_2', 'QS_BE_test_acc_L4_3', 'QE_AE_gap_L5_5', 'QE_AE_gap_L5_7', 'QS_BE_test_acc_L4_6', 'QS_BE_test_acc_L4_4', 'QE_AE_gap_L4_6', 'QE_AE_gap_L4_4', 'spec_BE_test_acc_L1_0', 'spec_BE_test_acc_L1_2', 'spec_BE_test_acc_L1_6', 'spec_BE_test_acc_L1_4', 'spec_BE_gap_L3_4', 'spec_BE_gap_L3_6', 'spec_BE_gap_L3_2', 'spec_BE_gap_L3_0', 'QS_BE_test_acc_L4_5', 'QS_BE_test_acc_L4_7', 'QE_AE_test_acc_L5_4', 'QE_AE_test_acc_L5_6', 'QS_AE_gap_L3_1', 'QE_AE_gap_L4_1', 'QS_AE_gap_L3_0', 'QE_AE_test_acc_L5_2', 'QE_AE_test_acc_L5_5', 'QE_AE_test_acc_L5_7', 'QE_AE_gap_L4_3', 'spec_BE_test_acc_L4_1', 'QE_AE_test_acc_L5_3', 'QE_AE_test_acc_L5_0', 'spec_BE_test_acc_L4_3', 'QE_AE_test_acc_L5_1', 'spec_BE_test_acc_L4_5', 'spec_BE_test_acc_L4_7', 'QE_AE_gap_L4_5', 'QE_AE_gap_L4_7', 'QS_AE_test_acc_L2_0', 'spec_BE_test_acc_L5_1', 'QE_AE_test_acc_L4_4', 'QE_AE_test_acc_L4_6', 'QE_AE_test_acc_L4_2', 'QS_AE_test_acc_L2_1', 'spec_BE_test_acc_L5_3', 'QE_AE_test_acc_L4_0', 'spec_BE_test_acc_L5_5', 'spec_BE_test_acc_L5_7', 'QE_AE_test_acc_L4_5', 'QE_AE_test_acc_L4_7', 'QE_AE_test_acc_L4_3', 'QE_AE_test_acc_L4_1', 'QS_AE_test_acc_L4_0', 'QS_AE_test_acc_L4_1', 'spec_BE_test_acc_L3_0', 'spec_BE_test_acc_L3_2', 'spec_BE_test_acc_L3_4', 'spec_BE_test_acc_L3_6', 'QS_AE_test_acc_L2_2', 'QS_AE_test_acc_L2_3', 'QS_AE_test_acc_L4_2', 'fro_BE_gap_L5_6', 'fro_BE_gap_L5_4', 'spec_BE_gap_L5_4', 'spec_BE_gap_L5_6', 'spec_BE_gap_L5_2', 'QS_AE_test_acc_L4_3', 'fro_BE_gap_L5_2', 'spec_BE_gap_L5_0', 'fro_BE_gap_L5_0', 'spec_BE_gap_L4_6', 'spec_BE_gap_L4_4', 'spec_BE_gap_L4_2', 'spec_BE_gap_L4_0', 'spec_BE_test_acc_L2_0', 'spec_BE_test_acc_L2_2', 'spec_BE_test_acc_L2_6', 'spec_BE_test_acc_L2_4', 'QS_AE_gap_L1_2', 'QS_AE_gap_L1_3', 'QS_AE_test_acc_L4_4', 'QS_AE_test_acc_L4_6', 'QS_AE_test_acc_L5_0', 'QS_AE_gap_L1_0', 'QS_AE_test_acc_L4_5', 'QS_AE_test_acc_L4_7', 'QS_AE_gap_L1_4', 'QS_AE_gap_L1_6', 'QS_AE_gap_L1_1', 'QS_AE_gap_L1_5', 'QS_AE_gap_L1_7', 'QS_AE_test_acc_L5_1', 'QS_AE_test_acc_L5_2', 'QS_AE_test_acc_L5_3', 'QS_AE_test_acc_L2_4', 'QS_AE_test_acc_L2_6', 'QS_AE_test_acc_L2_5', 'QS_AE_test_acc_L2_7', 'QS_BE_gap_L5_1', 'QS_AE_test_acc_L5_6', 'QS_AE_test_acc_L5_4', 'QS_BE_gap_L5_3', 'spec_BE_gap_L2_2', 'spec_BE_gap_L2_0', 'spec_BE_gap_L2_4', 'spec_BE_gap_L2_6', 'QS_AE_test_acc_L5_5', 'QS_AE_test_acc_L5_7', 'QS_BE_gap_L5_7', 'QS_BE_gap_L5_5', 'QS_BE_gap_L5_0', 'QS_BE_gap_L5_2', 'fro_BE_test_acc_L5_6', 'fro_BE_test_acc_L5_4', 'QS_BE_gap_L5_4', 'QS_BE_gap_L5_6', 'fro_BE_test_acc_L5_2', 'QS_BE_test_acc_L5_1', 'QS_BE_test_acc_L5_0', 'fro_BE_test_acc_L5_0', 'fro_BE_gap_L5_7', 'fro_BE_gap_L5_5', 'fro_BE_gap_L5_3', 'QS_BE_test_acc_L5_3', 'fro_BE_gap_L5_1', 'QS_BE_test_acc_L5_2', 'QS_BE_test_acc_L5_7', 'QS_BE_test_acc_L5_5', 'path_test_acc', 'QS_BE_test_acc_L5_4', 'QS_BE_test_acc_L5_6', 'spec_BE_gap_L4_1', 'QS_AE_gap_L5_3', 'QS_AE_gap_L4_2', 'spec_BE_gap_L4_3', 'QS_AE_gap_L4_3', 'QS_AE_gap_L4_0', 'spec_BE_gap_L4_5', 'spec_BE_gap_L4_7', 'QS_AE_gap_L4_1', 'QS_AE_gap_L5_2', 'QS_AE_gap_L5_5', 'QS_AE_gap_L5_7', 'QS_AE_gap_L5_6', 'QS_AE_gap_L5_4', 'QS_AE_gap_L5_1', 'spec_BE_gap_L5_1', 'QS_AE_gap_L5_0', 'QS_AE_gap_L4_5', 'QS_AE_gap_L4_7', 'spec_BE_gap_L5_3', 'QS_AE_gap_L4_4', 'QS_AE_gap_L4_6', 'spec_BE_gap_L5_5', 'spec_BE_gap_L5_7', 'fro_BE_test_acc_L5_5', 'fro_BE_test_acc_L5_7', 'fro_BE_test_acc_L5_3', 'QS_AE_gap_L2_0', 'QS_AE_gap_L2_1', 'fro_BE_test_acc_L5_1', 'spec_BE_gap_L1_1', 'spec_BE_gap_L1_3', 'spec_BE_gap_L1_5', 'spec_BE_gap_L1_7', 'QS_AE_gap_L2_2', 'QS_AE_gap_L2_3', 'spec_AE_test_acc_L3_4', 'spec_AE_test_acc_L3_6', 'spec_AE_test_acc_L3_2', 'spec_AE_test_acc_L3_0', 'spec_BE_gap_L3_1', 'spec_BE_gap_L3_3', 'spec_BE_gap_L3_5', 'spec_BE_gap_L3_7', 'QS_AE_gap_L2_6', 'QS_AE_gap_L2_4', 'QS_AE_gap_L2_7', 'QS_AE_gap_L2_5', 'spec_BE_test_acc_L1_1', 'spec_BE_test_acc_L1_3', 'fro_BE_gap_L4_6', 'fro_BE_gap_L4_4', 'spec_BE_test_acc_L1_5', 'spec_BE_test_acc_L1_7', 'fro_BE_gap_L4_2', 'fro_BE_gap_L4_0', 'spec_BE_gap_L2_1', 'spec_BE_gap_L2_3', 'spec_BE_gap_L2_5', 'spec_BE_gap_L2_7', 'spec_BE_test_acc_L2_1', 'spec_BE_test_acc_L2_3', 'spec_BE_test_acc_L2_7', 'spec_BE_test_acc_L2_5', 'spec_AE_test_acc_L3_5', 'spec_AE_test_acc_L3_7', 'spec_AE_test_acc_L3_3', 'spec_BE_test_acc_L3_1', 'spec_BE_test_acc_L3_3', 'spec_AE_test_acc_L3_1', 'spec_BE_test_acc_L3_5', 'spec_BE_test_acc_L3_7', 'fro_BE_gap_L4_5', 'fro_BE_gap_L4_7', 'fro_BE_gap_L4_3', 'fro_BE_gap_L4_1', 'fro_BE_test_acc_L4_6', 'fro_BE_test_acc_L4_4', 'fro_BE_test_acc_L4_2', 'spec_AE_gap_L3_4', 'spec_AE_gap_L3_6', 'fro_BE_test_acc_L4_0', 'spec_AE_gap_L3_2', 'spec_AE_gap_L3_0', 'fro_BE_test_acc_L4_7', 'fro_BE_test_acc_L4_5', 'fro_BE_test_acc_L4_3', 'fro_BE_test_acc_L4_1', 'path_gap', 'spec_AE_gap_L3_5', 'spec_AE_gap_L3_7', 'spec_AE_gap_L3_3', 'spec_AE_gap_L3_1', 'spec_AE_test_acc_L1_4', 'spec_AE_test_acc_L1_6', 'spec_AE_test_acc_L1_2', 'spec_AE_test_acc_L1_0', 'spec_AE_gap_L1_6', 'spec_AE_gap_L1_4', 'spec_AE_test_acc_L1_5', 'spec_AE_test_acc_L1_7', 'spec_AE_gap_L1_2', 'spec_AE_test_acc_L1_3', 'spec_AE_gap_L1_0', 'spec_AE_test_acc_L1_1', 'spec_AE_gap_L1_5', 'spec_AE_gap_L1_7', 'spec_AE_gap_L1_3', 'spec_AE_gap_L1_1', 'spec_AE_gap_L2_4', 'spec_AE_gap_L2_6', 'spec_AE_gap_L2_2', 'spec_AE_gap_L2_0', 'spec_AE_gap_L2_5', 'spec_AE_gap_L2_7', 'spec_AE_gap_L2_3', 'spec_AE_gap_L2_1', 'spec_AE_test_acc_L2_4', 'spec_AE_test_acc_L2_6', 'spec_AE_test_acc_L2_5', 'spec_AE_test_acc_L2_7', 'spec_AE_test_acc_L2_2', 'spec_AE_test_acc_L2_3', 'spec_AE_test_acc_L2_0', 'spec_AE_test_acc_L2_1', 'spec_AE_test_acc_L4_0', 'spec_AE_test_acc_L4_2', 'spec_AE_test_acc_L4_1', 'spec_AE_test_acc_L4_4', 'spec_AE_test_acc_L4_6', 'spec_AE_test_acc_L4_3', 'spec_AE_test_acc_L4_5', 'spec_AE_test_acc_L4_7', 'spec_AE_gap_L5_6', 'spec_AE_gap_L5_4', 'spec_AE_gap_L5_2', 'spec_AE_gap_L5_7', 'spec_AE_gap_L5_5', 'spec_AE_gap_L5_0', 'spec_AE_gap_L5_3', 'spec_AE_gap_L5_1', 'spec_AE_test_acc_L5_0', 'spec_AE_gap_L4_1', 'spec_AE_gap_L4_0', 'spec_AE_test_acc_L5_1', 'spec_AE_gap_L4_3', 'spec_AE_test_acc_L5_2', 'spec_AE_gap_L4_2', 'spec_AE_gap_L4_5', 'spec_AE_gap_L4_7', 'spec_AE_test_acc_L5_3', 'spec_AE_test_acc_L5_4', 'spec_AE_test_acc_L5_6', 'spec_AE_gap_L4_4', 'spec_AE_gap_L4_6', 'spec_AE_test_acc_L5_7', 'spec_AE_test_acc_L5_5'])\n"
     ]
    }
   ],
   "source": [
    "print(sorted_dict.keys())"
   ]
  },
  {
   "cell_type": "code",
   "execution_count": null,
   "metadata": {},
   "outputs": [],
   "source": []
  }
 ]
}